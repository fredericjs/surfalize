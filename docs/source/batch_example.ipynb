{
 "cells": [
  {
   "cell_type": "markdown",
   "id": "a25bfc26-b80f-47ae-a85c-efd836528986",
   "metadata": {},
   "source": [
    "# Batch example"
   ]
  },
  {
   "cell_type": "markdown",
   "id": "aa28feba-45fd-4579-bbdc-197a641057e2",
   "metadata": {},
   "source": [
    "<h3>Imports"
   ]
  },
  {
   "cell_type": "code",
   "execution_count": 15,
   "id": "4f821dbe-9b54-416a-bd8a-8559e2baaaeb",
   "metadata": {
    "tags": []
   },
   "outputs": [],
   "source": [
    "from surfalize import Batch"
   ]
  },
  {
   "cell_type": "markdown",
   "id": "74863b0a-f76f-41bc-a4ae-3c340b7fa49e",
   "metadata": {},
   "source": [
    "<h3>Get filepaths"
   ]
  },
  {
   "cell_type": "code",
   "execution_count": 16,
   "id": "ebfb2151-aa02-43e0-ac02-7902538cf3d6",
   "metadata": {},
   "outputs": [],
   "source": [
    "from pathlib import Path\n",
    "root = Path.cwd() / 'matrix'\n",
    "files = list(root.glob('*.vk4'))"
   ]
  },
  {
   "cell_type": "markdown",
   "id": "d62610c9-4371-47c1-b09c-a91ad0058607",
   "metadata": {},
   "source": [
    "<h3>Create batch and register operations"
   ]
  },
  {
   "cell_type": "code",
   "execution_count": 17,
   "id": "be251ffe-22bf-493c-9d13-98789db794ed",
   "metadata": {},
   "outputs": [
    {
     "data": {
      "text/plain": [
       "<surfalize.batch.Batch at 0x7f58cf183760>"
      ]
     },
     "execution_count": 17,
     "metadata": {},
     "output_type": "execute_result"
    }
   ],
   "source": [
    "batch = Batch(files, additional_data='laser_parameters.xlsx')\n",
    "batch.level()\n",
    "batch.filter('bandpass', 0.1, 20)\n",
    "batch.roughness_parameters()"
   ]
  },
  {
   "cell_type": "markdown",
   "id": "478c123a-4889-4b96-8b8e-222a0bf4f70f",
   "metadata": {},
   "source": [
    "<h3> Execute batch analysis"
   ]
  },
  {
   "cell_type": "code",
   "execution_count": null,
   "id": "b739930d-03f7-4623-93d4-0396b5494890",
   "metadata": {},
   "outputs": [
    {
     "data": {
      "application/vnd.jupyter.widget-view+json": {
       "model_id": "395f392ef8aa4c0191f547cf0b5d09be",
       "version_major": 2,
       "version_minor": 0
      },
      "text/plain": [
       "Processing on 12 cores:   0%|          | 0/36 [00:00<?, ?it/s]"
      ]
     },
     "metadata": {},
     "output_type": "display_data"
    }
   ],
   "source": [
    "df = batch.execute(multiprocessing=True, saveto='results.xlsx')\n",
    "df"
   ]
  },
  {
   "cell_type": "markdown",
   "id": "c59e65b5-198c-4bbd-994f-c10739f5ded2",
   "metadata": {},
   "source": [
    "<h3>Plot heatmap"
   ]
  },
  {
   "cell_type": "code",
   "execution_count": null,
   "id": "1aefb7a6-eccc-43c7-a7ad-f691f28a1128",
   "metadata": {},
   "outputs": [],
   "source": [
    "from mplheatmap import heatmap\n",
    "heatmap(data=df, x='Pulses', y='Fluence', z='depth_mean', ylabel='Fluence (J/cm²)', zlabel='Average structure depth (µm)');"
   ]
  },
  {
   "cell_type": "markdown",
   "id": "ddddb909-ca21-4dd0-9f56-781e2c25e787",
   "metadata": {},
   "source": [
    "<h3>Other plots"
   ]
  },
  {
   "cell_type": "code",
   "execution_count": null,
   "id": "0087f736-5d56-4b6a-b812-c10c20b98252",
   "metadata": {},
   "outputs": [],
   "source": [
    "import numpy as np\n",
    "import matplotlib.pyplot as plt\n",
    "from scipy.optimize import curve_fit\n",
    "\n",
    "# Calculate cumulated fluence\n",
    "df['fcum'] = df['Fluence'] * df['Pulses'] * df['Diameter'] / (df['Hatch factor'] * df['Target Period'])\n",
    "# Sort values of the dataframe by fcum\n",
    "df = df.sort_values(by='fcum')\n",
    "\n",
    "# Create the matplotlib axis and figure\n",
    "fig, ax = plt.subplots()\n",
    "\n",
    "# Fitfunction for log fitting\n",
    "ff = lambda x, a, b, c: a * np.log(b*x) + c\n",
    "# Perform and plot the log fitting of the data and uncertainty bounds\n",
    "bounds = ((-np.inf, 0, -np.inf), (np.inf, np.inf, np.inf))\n",
    "\n",
    "# Logfit data\n",
    "x = np.linspace(df['fcum'].min(), df['fcum'].max(), 100)\n",
    "popt, _ = curve_fit(ff, df['fcum'], df['depth_mean'], bounds=bounds)\n",
    "ax.plot(x, ff(x, *popt), c='tab:blue', ls='-', label='logfit data')\n",
    "# Logfit upper bound\n",
    "popt, _ = curve_fit(ff, df['fcum'], df['depth_mean'] + df['depth_std'], bounds=bounds)\n",
    "yu = ff(x, *popt)\n",
    "ax.plot(x, yu, c='tab:blue', ls='--')\n",
    "# Logfit lower bound\n",
    "popt, _ = curve_fit(ff, df['fcum'], df['depth_mean'] - df['depth_std'], bounds=bounds)\n",
    "yl = ff(x, *popt)\n",
    "ax.plot(x, yl, c='tab:blue', ls='--', label='logfit uncertainty')\n",
    "# Fill blue area\n",
    "ax.fill_between(x, yl, yu, alpha=0.1)\n",
    "\n",
    "# Plot the actual data\n",
    "ax.errorbar(df['fcum'], df['depth_mean'], df['depth_std'], ls='', marker='o', mew=1, mec='k', capsize=3, ecolor='k', elinewidth=1, label='data point')\n",
    "\n",
    "# Make the plot nicer\n",
    "ax.grid(ls='--')\n",
    "ax.set_xlabel('Cumulated fluence (J/cm²)')\n",
    "ax.set_ylabel('Structure depth (µm)')\n",
    "ax.legend(loc='lower right')\n",
    "#fig.savefig('figure.png', dpi=300, bbox_inches='tight')\n",
    "plt.show()"
   ]
  }
 ],
 "metadata": {
  "kernelspec": {
   "display_name": "Python 3 (ipykernel)",
   "language": "python",
   "name": "python3"
  },
  "language_info": {
   "codemirror_mode": {
    "name": "ipython",
    "version": 3
   },
   "file_extension": ".py",
   "mimetype": "text/x-python",
   "name": "python",
   "nbconvert_exporter": "python",
   "pygments_lexer": "ipython3",
   "version": "3.11.5"
  }
 },
 "nbformat": 4,
 "nbformat_minor": 5
}
